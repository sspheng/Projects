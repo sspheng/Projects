{
 "cells": [
  {
   "cell_type": "markdown",
   "id": "18cc9bc7",
   "metadata": {},
   "source": [
    "practice these questions\n",
    "\n",
    "https://www.kaggle.com/code/pulkitahuja08/nlp-assignment"
   ]
  }
 ],
 "metadata": {
  "kernelspec": {
   "display_name": "Python 3 (ipykernel)",
   "language": "python",
   "name": "python3"
  },
  "language_info": {
   "codemirror_mode": {
    "name": "ipython",
    "version": 3
   },
   "file_extension": ".py",
   "mimetype": "text/x-python",
   "name": "python",
   "nbconvert_exporter": "python",
   "pygments_lexer": "ipython3",
   "version": "3.9.7"
  }
 },
 "nbformat": 4,
 "nbformat_minor": 5
}
