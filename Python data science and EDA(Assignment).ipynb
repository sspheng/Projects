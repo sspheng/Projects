{
 "cells": [
  {
   "attachments": {
    "careerera_logo.png": {
     "image/png": "[encoded data removed]"
    }
   },
   "cell_type": "markdown",
   "id": "5fff909a",
   "metadata": {},
   "source": [
    "![careerera_logo.png](attachment:careerera_logo.png)"
   ]
  },
  {
   "cell_type": "markdown",
   "id": "51f1c748",
   "metadata": {},
   "source": [
    "# <span style=\"color:blue\"> DATA VISUALIZATION PRACTICE QUESTIONS</span>"
   ]
  },
  {
   "cell_type": "markdown",
   "id": "ec1433c0",
   "metadata": {},
   "source": [
    "**1.Write a NumPy program to create an array of the integers from 30 to70.**"
   ]
  },
  {
   "cell_type": "code",
   "execution_count": 1,
   "id": "64142e03",
   "metadata": {},
   "outputs": [],
   "source": [
    "#write your code here............"
   ]
  },
  {
   "cell_type": "markdown",
   "id": "9c667746",
   "metadata": {},
   "source": [
    "**2.Write a NumPy program to compute sum of all elements, sum of each column and sum of each row of a given array.**"
   ]
  },
  {
   "cell_type": "code",
   "execution_count": null,
   "id": "8abae037",
   "metadata": {},
   "outputs": [],
   "source": []
  },
  {
   "cell_type": "markdown",
   "id": "2a2e9f46",
   "metadata": {},
   "source": [
    "**3.Write a NumPy program to convert a given list into an array, then again convert it into a list. \n",
    "Check initial list and final list are equal or not.**"
   ]
  },
  {
   "cell_type": "code",
   "execution_count": null,
   "id": "3adcb9ac",
   "metadata": {},
   "outputs": [],
   "source": []
  },
  {
   "cell_type": "markdown",
   "id": "0c1a8c9f",
   "metadata": {},
   "source": [
    "**4.Create a Numpy array filled with all zeros.**"
   ]
  },
  {
   "cell_type": "code",
   "execution_count": null,
   "id": "90f20a0a",
   "metadata": {},
   "outputs": [],
   "source": []
  },
  {
   "cell_type": "markdown",
   "id": "72617946",
   "metadata": {},
   "source": [
    "**5.Write a NumPy program to split the element of a given array with spaces.**"
   ]
  },
  {
   "cell_type": "code",
   "execution_count": null,
   "id": "603bf38a",
   "metadata": {},
   "outputs": [],
   "source": []
  },
  {
   "cell_type": "markdown",
   "id": "56376cef",
   "metadata": {},
   "source": [
    "**6.Write a NumPy program to multiply two given arrays of same size element-by-element.**"
   ]
  },
  {
   "cell_type": "code",
   "execution_count": null,
   "id": "ce50f569",
   "metadata": {},
   "outputs": [],
   "source": []
  },
  {
   "cell_type": "markdown",
   "id": "4e7fc9eb",
   "metadata": {},
   "source": [
    "**7.Which function is used to get summary statistics(mean, median, mode, variance, standard deviation) using pandas?**"
   ]
  },
  {
   "cell_type": "code",
   "execution_count": null,
   "id": "425b13c1",
   "metadata": {},
   "outputs": [],
   "source": []
  },
  {
   "cell_type": "markdown",
   "id": "7192a975",
   "metadata": {},
   "source": [
    "**6.Create a numpy array and Replace NaN values with average of columns of the array?**"
   ]
  },
  {
   "cell_type": "code",
   "execution_count": null,
   "id": "8774694b",
   "metadata": {},
   "outputs": [],
   "source": []
  },
  {
   "cell_type": "markdown",
   "id": "6e804e6f",
   "metadata": {},
   "source": [
    "**7.Download the dataset from this link:->  https://www.kaggle.com/datasets/uciml/iris </br>\n",
    "-->Reading the Data, Cleaning the Data,Data Visualization by using matplotlib graphs.**"
   ]
  },
  {
   "cell_type": "code",
   "execution_count": null,
   "id": "f4a340e2",
   "metadata": {},
   "outputs": [],
   "source": []
  },
  {
   "cell_type": "markdown",
   "id": "a49a20be",
   "metadata": {},
   "source": [
    "**8.How to get the random samples to a Dataframe?using previous Iris Data.**"
   ]
  },
  {
   "cell_type": "code",
   "execution_count": null,
   "id": "b5e9e080",
   "metadata": {},
   "outputs": [],
   "source": []
  },
  {
   "cell_type": "markdown",
   "id": "f6e29717",
   "metadata": {},
   "source": [
    "**9.Creating Pandas dataframe using list of lists:</br>\n",
    "data = [['Geeks', 10], ['for', 15], ['geeks', 20]]**"
   ]
  },
  {
   "cell_type": "code",
   "execution_count": null,
   "id": "7d1489f5",
   "metadata": {},
   "outputs": [],
   "source": []
  },
  {
   "cell_type": "markdown",
   "id": "910b7334",
   "metadata": {},
   "source": [
    "**10.First create a pandas DataFrame original Dataframe.Write a Pandas program to drop a list of rows from a specified DataFrame.</br>\n",
    "Sample data:</br></br>\n",
    "Original DataFrame-----</br>\n",
    "col1 col2 col3</br>\n",
    "0 1 4 7</br>\n",
    "1 4 5 8</br>\n",
    "2 3 6 9</br>\n",
    "3 4 7 0</br>\n",
    "4 5 8 1</br></br>\n",
    "New DataFrame after removing 2nd & 4th rows:</br>\n",
    "col1 col2 col3</br>\n",
    "0 1 4 7</br>\n",
    "1 4 5 8</br>\n",
    "3 4 7 0**"
   ]
  },
  {
   "cell_type": "code",
   "execution_count": null,
   "id": "d85cccd4",
   "metadata": {},
   "outputs": [],
   "source": []
  },
  {
   "cell_type": "markdown",
   "id": "17924168",
   "metadata": {},
   "source": [
    "**11.Download the data from the given link:-https://www.kaggle.com/code/dronax/car-prices-dataset</br>\n",
    "(i)Analysis the data.</br>\n",
    "(ii)Finding correlation between the useful columns.</br>\n",
    "(iii)Finding the column having outliers.</br>**"
   ]
  },
  {
   "cell_type": "code",
   "execution_count": null,
   "id": "1020b20c",
   "metadata": {},
   "outputs": [],
   "source": []
  },
  {
   "attachments": {
    "data.PNG": {
     "image/png": "[encoded data removed]"
    }
   },
   "cell_type": "markdown",
   "id": "46355f9a",
   "metadata": {},
   "source": [
    "**12.Write a Pandas program to find out the records where consumption of beverages per person average >=5 and Beverage Types is Beer from world alcohol consumption dataset.**</br>\n",
    "![data.PNG](attachment:data.PNG)"
   ]
  },
  {
   "cell_type": "code",
   "execution_count": null,
   "id": "02335c38",
   "metadata": {},
   "outputs": [],
   "source": []
  },
  {
   "cell_type": "markdown",
   "id": "aca8d97d",
   "metadata": {},
   "source": [
    "**13.Download the dataset from the given link and then analysis the given questions:-\n",
    "    https://www.kaggle.com/datasets/pranalibose/amazon-seller-order-status-prediction</br>\n",
    "(i)Finding the correlation between the columns present in the Dataset?</br>\n",
    "(ii)Which is the best month in terms of broducts bought?</br>\n",
    "(iii)Which is the five states getting the highest orders?</br>\n",
    "(iv)Which is the five cities getting the highest orders?</br>\n",
    "(v)Finding Top 10 products using pie chart?**"
   ]
  },
  {
   "cell_type": "code",
   "execution_count": null,
   "id": "a0cfdfaa",
   "metadata": {},
   "outputs": [],
   "source": []
  },
  {
   "cell_type": "code",
   "execution_count": null,
   "id": "cefce8a0",
   "metadata": {},
   "outputs": [],
   "source": []
  }
 ],
 "metadata": {
  "kernelspec": {
   "display_name": "Python 3 (ipykernel)",
   "language": "python",
   "name": "python3"
  },
  "language_info": {
   "codemirror_mode": {
    "name": "ipython",
    "version": 3
   },
   "file_extension": ".py",
   "mimetype": "text/x-python",
   "name": "python",
   "nbconvert_exporter": "python",
   "pygments_lexer": "ipython3",
   "version": "3.9.12"
  }
 },
 "nbformat": 4,
 "nbformat_minor": 5
}
